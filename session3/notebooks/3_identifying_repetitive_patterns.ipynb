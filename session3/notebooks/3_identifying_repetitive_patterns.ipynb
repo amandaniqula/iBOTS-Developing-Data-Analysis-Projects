{
 "cells": [
  {
   "cell_type": "markdown",
   "metadata": {},
   "source": [
    "## Identifying Repetitive Patterns\n",
    "\n",
    "### Steinmetz Dataset\n",
    "\n",
    "We will be using a subset of the Steinmetz dataset ([Nature 2019](https://www.nature.com/articles/s41586-019-1787-x)) which contains 3 Neuropixels recordings of 400-700 neurons each from across the mouse brain during a visual behavior task. Briefly, the task was a decision-making task where the mouse had to decide whether the contrast of a left stimulus is higher or the contrast of the right stimulus, and reported their decision by turning a wheel such that the stimulus with the higher contrast was moved to the center (e.g. if the right stimulus had a higher contrast, they moved the wheel to the left).\n",
    "\n",
    "#### Download the data\n",
    "\n",
    "If you have already downloaded the data, simply copy/cut and paste it into the `sessoin3` directory. Otherwise you can download the data (~6MB) from this link: [https://uni-bonn.sciebo.de/s/cELWgBIoFCl2ts3](https://uni-bonn.sciebo.de/s/cELWgBIoFCl2ts3)\n",
    "\n",
    "For a more detailed decsription (maybe while the data is being downloaded?) you can watch this short (~8min) [YouTube video](https://youtu.be/WXn4-FpVaOo?si=0dIgwNUWGajmZ4B6)\n",
    "\n",
    "\n",
    "### Task: Identify Repetitive Pattern to Extract Functions\n",
    "\n",
    "Below we have some Python code that merges each behavioral variable for a specific session of Steinmetz dataset into a single numpy array. For example, the lick data which is originally saved as single `.npy` files for each trial will be merged into a single numpy array containing all trials.\n",
    "\n",
    "Our goal is to improve this notebook by looking through the code, identifying repetitive patterns, and packaging those into functions (which are stored in modules).\n",
    "\n",
    "- first make sure the code works (i.e. the notebook succesfully runs all the way)\n",
    "- identify repetitive operations\n",
    "- create a function that performs that operation\n",
    "- store the functions into modules\n",
    "- create a new notebook that does the same thing as this notebook, but uses the functions imported from modules\n",
    "- finally, make sure the code still works :)\n",
    "\n",
    "**Things to keep in mind**\n",
    "- modules are created inside the `src` folder\n",
    "- let's organize the functions and modules such that functions that are of the same category are stored in the same module\n",
    "- Let's keep track and document our development by making commits (and pushing to GitHub)"
   ]
  },
  {
   "cell_type": "markdown",
   "metadata": {},
   "source": [
    "---"
   ]
  },
  {
   "cell_type": "code",
   "execution_count": 1,
   "metadata": {},
   "outputs": [
    {
     "name": "stdout",
     "output_type": "stream",
     "text": [
      "Requirement already satisfied: seaborn in c:\\users\\niqul\\anaconda3\\lib\\site-packages (0.11.2)Note: you may need to restart the kernel to use updated packages.\n",
      "\n",
      "Requirement already satisfied: pandas>=0.23 in c:\\users\\niqul\\anaconda3\\lib\\site-packages (from seaborn) (1.4.4)\n",
      "Requirement already satisfied: matplotlib>=2.2 in c:\\users\\niqul\\anaconda3\\lib\\site-packages (from seaborn) (3.5.2)\n",
      "Requirement already satisfied: scipy>=1.0 in c:\\users\\niqul\\anaconda3\\lib\\site-packages (from seaborn) (1.9.1)\n",
      "Requirement already satisfied: numpy>=1.15 in c:\\users\\niqul\\anaconda3\\lib\\site-packages (from seaborn) (1.21.5)\n",
      "Requirement already satisfied: pyparsing>=2.2.1 in c:\\users\\niqul\\anaconda3\\lib\\site-packages (from matplotlib>=2.2->seaborn) (3.0.9)\n",
      "Requirement already satisfied: packaging>=20.0 in c:\\users\\niqul\\anaconda3\\lib\\site-packages (from matplotlib>=2.2->seaborn) (21.3)\n",
      "Requirement already satisfied: python-dateutil>=2.7 in c:\\users\\niqul\\anaconda3\\lib\\site-packages (from matplotlib>=2.2->seaborn) (2.8.2)\n",
      "Requirement already satisfied: fonttools>=4.22.0 in c:\\users\\niqul\\anaconda3\\lib\\site-packages (from matplotlib>=2.2->seaborn) (4.25.0)\n",
      "Requirement already satisfied: kiwisolver>=1.0.1 in c:\\users\\niqul\\anaconda3\\lib\\site-packages (from matplotlib>=2.2->seaborn) (1.4.2)\n",
      "Requirement already satisfied: pillow>=6.2.0 in c:\\users\\niqul\\anaconda3\\lib\\site-packages (from matplotlib>=2.2->seaborn) (9.2.0)\n",
      "Requirement already satisfied: cycler>=0.10 in c:\\users\\niqul\\anaconda3\\lib\\site-packages (from matplotlib>=2.2->seaborn) (0.11.0)\n",
      "Requirement already satisfied: pytz>=2020.1 in c:\\users\\niqul\\anaconda3\\lib\\site-packages (from pandas>=0.23->seaborn) (2022.1)\n",
      "Requirement already satisfied: six>=1.5 in c:\\users\\niqul\\anaconda3\\lib\\site-packages (from python-dateutil>=2.7->matplotlib>=2.2->seaborn) (1.16.0)\n"
     ]
    }
   ],
   "source": [
    "%pip install seaborn"
   ]
  },
  {
   "cell_type": "code",
   "execution_count": null,
   "metadata": {},
   "outputs": [],
   "source": [
    "import glob\n",
    "import numpy as np\n",
    "from tqdm import tqdm\n",
    "from scipy.io import loadmat\n",
    "import matplotlib.pyplot as plt\n",
    "import seaborn as sns"
   ]
  },
  {
   "cell_type": "markdown",
   "metadata": {},
   "source": [
    "### Merge the licks data"
   ]
  },
  {
   "cell_type": "code",
   "execution_count": null,
   "metadata": {},
   "outputs": [],
   "source": [
    "path_to_licks_data = \"../steinmetz_data/raw/subject-Lederberg/session-20171209/behavioral/licks/\"\n",
    "all_npy_files = glob.glob(path_to_licks_data + \"*.npy\")\n",
    "\n",
    "licks_data = []\n",
    "for filename in tqdm(all_npy_files, desc=\"Merging the licks data\"):\n",
    "    licks_data_per_trial = np.load(filename)\n",
    "    licks_data.append(licks_data_per_trial)\n",
    "\n",
    "licks_data = np.stack(licks_data)"
   ]
  },
  {
   "cell_type": "code",
   "execution_count": null,
   "metadata": {},
   "outputs": [],
   "source": [
    "def merge_data(all_npy_files):\n",
    "    licks_data = []\n",
    "    for filename in tqdm(all_npy_files, desc=\"Merging the licks data\"):\n",
    "        licks_data_per_trial = np.load(filename)\n",
    "        licks_data.append(licks_data_per_trial)\n",
    "\n",
    "    licks_data = np.stack(licks_data)\n",
    "    return licks data"
   ]
  },
  {
   "cell_type": "code",
   "execution_count": null,
   "metadata": {},
   "outputs": [],
   "source": [
    "fig, ax = plt.subplots(figsize=(4, 3), dpi=150)\n",
    "ax.plot(licks_data.sum(axis=1), c=\"k\")\n",
    "ax.set_xlabel(\"trials\")\n",
    "ax.set_ylabel(\"# licks\")\n",
    "sns.despine(trim=True)"
   ]
  },
  {
   "cell_type": "markdown",
   "metadata": {},
   "source": [
    "### Merge the face data"
   ]
  },
  {
   "cell_type": "code",
   "execution_count": null,
   "metadata": {},
   "outputs": [],
   "source": [
    "path_to_face_data = \"../steinmetz_data/raw/subject-Lederberg/session-20171209/behavioral/face/\"\n",
    "all_npy_files = glob.glob(path_to_face_data + \"*.npy\")\n",
    "\n",
    "face_data = []\n",
    "for filename in tqdm(all_npy_files, desc=\"Merging the face data\"):\n",
    "    face_data_per_trial = np.load(filename)\n",
    "    face_data.append(face_data_per_trial)\n",
    "\n",
    "face_data = np.stack(face_data)"
   ]
  },
  {
   "cell_type": "code",
   "execution_count": null,
   "metadata": {},
   "outputs": [],
   "source": [
    "fig, ax = plt.subplots(figsize=(3, 3), dpi=150)\n",
    "ax.imshow(face_data, cmap=\"inferno\", aspect=\"auto\", origin=\"lower\")\n",
    "ax.set(xlabel=\"time\", ylabel=\"trials\")"
   ]
  },
  {
   "cell_type": "markdown",
   "metadata": {},
   "source": [
    "### Merge the wheel speed data"
   ]
  },
  {
   "cell_type": "code",
   "execution_count": null,
   "metadata": {},
   "outputs": [],
   "source": [
    "path_to_wheel_speed_data = \"../steinmetz_data/raw/subject-Lederberg/session-20171209/behavioral/wheel_speed/\"\n",
    "all_npy_files = glob.glob(path_to_wheel_speed_data + \"*.npy\")\n",
    "\n",
    "wheel_speed_data = []\n",
    "for filename in tqdm(all_npy_files, desc=\"Merging the wheel_speed data\"):\n",
    "    wheel_speed_data_per_trial = np.load(filename)\n",
    "    wheel_speed_data.append(wheel_speed_data_per_trial)\n",
    "\n",
    "wheel_speed_data = np.stack(wheel_speed_data)"
   ]
  },
  {
   "cell_type": "code",
   "execution_count": null,
   "metadata": {},
   "outputs": [],
   "source": [
    "fig, ax = plt.subplots(figsize=(4, 3), dpi=150)\n",
    "ax.plot(wheel_speed_data.T, c=\"k\", alpha=.1)\n",
    "ax.set(xlabel=\"time\", ylabel=\"wheel speed\")"
   ]
  },
  {
   "cell_type": "markdown",
   "metadata": {},
   "source": [
    "### Merge the pupil-related data as separate npy files"
   ]
  },
  {
   "cell_type": "code",
   "execution_count": null,
   "metadata": {},
   "outputs": [],
   "source": [
    "path_to_pupil_data = \"../steinmetz_data/raw/subject-Lederberg/session-20171209/behavioral/pupil/\"\n",
    "all_mat_files = glob.glob(path_to_pupil_data + \"*.mat\")"
   ]
  },
  {
   "cell_type": "markdown",
   "metadata": {},
   "source": [
    "#### Pupil area"
   ]
  },
  {
   "cell_type": "code",
   "execution_count": null,
   "metadata": {},
   "outputs": [],
   "source": [
    "pupil_area_data = []\n",
    "for filename in tqdm(all_mat_files, desc=\"Merging the pupil_sarea data\"):\n",
    "    pupil_area_data_per_trial = loadmat(filename)[\"pupil_area\"].squeeze()\n",
    "    pupil_area_data.append(pupil_area_data_per_trial)\n",
    "\n",
    "pupil_area_data = np.stack(pupil_area_data)"
   ]
  },
  {
   "cell_type": "markdown",
   "metadata": {},
   "source": [
    "#### Pupil $x$ position"
   ]
  },
  {
   "cell_type": "code",
   "execution_count": null,
   "metadata": {},
   "outputs": [],
   "source": [
    "pupil_x_data = []\n",
    "for filename in tqdm(all_mat_files, desc=\"Merging the pupil_x data\"):\n",
    "    pupil_x_data_per_trial = loadmat(filename)[\"pupil_x\"].squeeze()\n",
    "    pupil_x_data.append(pupil_x_data_per_trial)\n",
    "\n",
    "pupil_x_data = np.stack(pupil_x_data)"
   ]
  },
  {
   "cell_type": "markdown",
   "metadata": {},
   "source": [
    "#### Pupil $y$ position"
   ]
  },
  {
   "cell_type": "code",
   "execution_count": null,
   "metadata": {},
   "outputs": [],
   "source": [
    "pupil_y_data = []\n",
    "for filename in tqdm(all_mat_files, desc=\"Merging the pupil_y data\"):\n",
    "    pupil_y_data_per_trial = loadmat(filename)[\"pupil_y\"].squeeze()\n",
    "    pupil_y_data.append(pupil_y_data_per_trial)\n",
    "\n",
    "pupil_y_data = np.stack(pupil_y_data)"
   ]
  },
  {
   "cell_type": "code",
   "execution_count": null,
   "metadata": {},
   "outputs": [],
   "source": [
    "n_trials, n_timebins = pupil_y_data.shape"
   ]
  },
  {
   "cell_type": "code",
   "execution_count": null,
   "metadata": {},
   "outputs": [],
   "source": [
    "fig, ax = plt.subplots(figsize=(4, 3), dpi=150)\n",
    "trial_idx = 29\n",
    "sc = ax.scatter(pupil_x_data[trial_idx], pupil_y_data[trial_idx], c=np.linspace(0, 2.5, n_timebins), ec='k', lw=.5)\n",
    "ax.set(xlabel=\"pupil x\", ylabel=\"pupil y\", title=f\"Trial {trial_idx+1}\")\n",
    "\n",
    "cbar = plt.colorbar(sc, ax=ax)\n",
    "cbar.set_label('time (s)') "
   ]
  },
  {
   "cell_type": "code",
   "execution_count": null,
   "metadata": {},
   "outputs": [],
   "source": []
  }
 ],
 "metadata": {
  "kernelspec": {
   "display_name": "workshop-env",
   "language": "python",
   "name": "python3"
  },
  "language_info": {
   "codemirror_mode": {
    "name": "ipython",
    "version": 3
   },
   "file_extension": ".py",
   "mimetype": "text/x-python",
   "name": "python",
   "nbconvert_exporter": "python",
   "pygments_lexer": "ipython3",
   "version": "3.9.13"
  }
 },
 "nbformat": 4,
 "nbformat_minor": 2
}
